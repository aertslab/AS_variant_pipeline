{
 "cells": [
  {
   "cell_type": "markdown",
   "metadata": {},
   "source": [
    "### Step 1. Creation of personalized genomes and chain files "
   ]
  },
  {
   "cell_type": "markdown",
   "metadata": {},
   "source": [
    "Add detailed description about this step "
   ]
  },
  {
   "cell_type": "markdown",
   "metadata": {},
   "source": [
    "#### Load the required modules "
   ]
  },
  {
   "cell_type": "code",
   "execution_count": null,
   "metadata": {},
   "outputs": [],
   "source": [
    "module load pigz Java \n",
    "module load Java/jdk1.8.0_151\n",
    "module load SAMtools/1.8-foss-2014a"
   ]
  },
  {
   "cell_type": "raw",
   "metadata": {},
   "source": [
    "# modify this field for your sample \n",
    "sample=\"MM031\""
   ]
  },
  {
   "cell_type": "markdown",
   "metadata": {},
   "source": [
    "Create necessary folders "
   ]
  },
  {
   "cell_type": "markdown",
   "metadata": {},
   "source": [
    "Step1. re-call SVs using sniffles "
   ]
  },
  {
   "cell_type": "raw",
   "metadata": {},
   "source": [
    "# first add MD tags to the bam\n",
    "samtools calmd \\\n",
    "-@ 30 \\\n",
    "-b /staging/leuven/stg_00002/lcb/zkalender/Runs/MWGS_FINAL_SEQ_DATA/analysis/${sampleID}/outs/phased_possorted_bam.bam \\\n",
    "/staging/leuven/stg_00002/lcb/resources/longranger/refdata-GRCh38-2.1.0/fasta/genome.fa > \\\n",
    "/staging/leuven/stg_00002/lcb/zkalender/Runs/MWGS_FINAL_SEQ_DATA/analysis/${sampleID}/outs/${sampleID}_phased_possorted_bam_MDtag.bam"
   ]
  },
  {
   "cell_type": "code",
   "execution_count": null,
   "metadata": {},
   "outputs": [],
   "source": [
    "# run sniffles \n"
   ]
  }
 ],
 "metadata": {
  "kernelspec": {
   "display_name": "Bash",
   "language": "bash",
   "name": "bash"
  },
  "language_info": {
   "name": ""
  }
 },
 "nbformat": 4,
 "nbformat_minor": 4
}
